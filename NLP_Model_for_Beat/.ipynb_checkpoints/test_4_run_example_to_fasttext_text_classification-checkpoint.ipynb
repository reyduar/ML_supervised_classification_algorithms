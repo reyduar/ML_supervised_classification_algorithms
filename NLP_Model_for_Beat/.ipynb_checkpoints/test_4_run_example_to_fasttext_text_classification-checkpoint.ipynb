{
 "cells": [
  {
   "cell_type": "code",
   "execution_count": 24,
   "metadata": {},
   "outputs": [
    {
     "name": "stdout",
     "output_type": "stream",
     "text": [
      "☆ (1 Start)\n",
      "I don't know. It was ok, I guess. Not really sure what to say.\n",
      "\n",
      "☆☆ (2 Start)\n",
      "I hate this place so much. They were mean to me.\n",
      "\n",
      "☆☆☆ (3 Start)\n",
      "This restaurant literally changed my life\n",
      "\n"
     ]
    }
   ],
   "source": [
    "# -*- coding: utf-8 -*-\n",
    "\"\"\"\n",
    "@author: ariel.duarte\n",
    "\n",
    "Load the model and use it to automatically score user reviews:\n",
    "\"\"\"\n",
    "\n",
    "import fasttext\n",
    "import re\n",
    "\n",
    "def strip_formatting(string):\n",
    "    string = string.lower()\n",
    "    string = re.sub(r\"([.!?,'/()])\", r\" \\1 \", string)\n",
    "    return string\n",
    "\n",
    "# Reviews to check\n",
    "reviews = [\n",
    "    \"I don't know. It was ok, I guess. Not really sure what to say.\",\n",
    "    \"I hate this place so much. They were mean to me.\",\n",
    "    \"This restaurant literally changed my life\"\n",
    "]\n",
    "\n",
    "# Pre-process the text of each review so it matches the training format\n",
    "preprocessed_reviews = list(map(strip_formatting, reviews))\n",
    "\n",
    "# Load the model\n",
    "classifier = fasttext.load_model('reviews_model_ngrams.bin')\n",
    "\n",
    "# Get fastText to classify each review with the model\n",
    "labels, probabilities, prefixs = classifier.predict(preprocessed_reviews, 6)\n",
    "\n",
    "# Print the results\n",
    "for review, label, probability in zip(reviews, labels, probabilities):\n",
    "    #print(label[-1][-1])\n",
    "    stars = int(label[-1][-1])\n",
    "\n",
    "    print(\"{} ({} Start)\".format(\"☆\" * stars, label[-1][-1]))\n",
    "    #print(\"{} ({}% confidence)\".format(\"☆\" * stars, probability[-1][-1]))\n",
    "    print(review)\n",
    "    print()"
   ]
  },
  {
   "cell_type": "code",
   "execution_count": null,
   "metadata": {},
   "outputs": [],
   "source": []
  }
 ],
 "metadata": {
  "kernelspec": {
   "display_name": "Python 3",
   "language": "python",
   "name": "python3"
  },
  "language_info": {
   "codemirror_mode": {
    "name": "ipython",
    "version": 3
   },
   "file_extension": ".py",
   "mimetype": "text/x-python",
   "name": "python",
   "nbconvert_exporter": "python",
   "pygments_lexer": "ipython3",
   "version": "3.7.1"
  }
 },
 "nbformat": 4,
 "nbformat_minor": 2
}
