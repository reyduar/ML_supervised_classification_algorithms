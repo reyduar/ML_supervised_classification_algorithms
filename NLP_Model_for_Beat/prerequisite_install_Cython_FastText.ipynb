{
 "cells": [
  {
   "cell_type": "code",
   "execution_count": 1,
   "metadata": {},
   "outputs": [
    {
     "name": "stdout",
     "output_type": "stream",
     "text": [
      "/root/anaconda3/lib/python3.7/site-packages/pip/_internal/commands/install.py:211: UserWarning: Disabling all use of wheels due to the use of --build-options / --global-options / --install-options.\n",
      "  cmdoptions.check_install_build_global(options)\n",
      "Requirement already satisfied: Cython in /root/anaconda3/lib/python3.7/site-packages (0.29.2)\n"
     ]
    }
   ],
   "source": [
    "# Cython is a prerequisite to install fasttext\n",
    "import sys\n",
    "!{sys.executable} -m pip install Cython --install-option=\"--no-cython-compile\""
   ]
  },
  {
   "cell_type": "code",
   "execution_count": 2,
   "metadata": {},
   "outputs": [
    {
     "name": "stdout",
     "output_type": "stream",
     "text": [
      "Collecting fasttext\n",
      "\u001b[?25l  Downloading https://files.pythonhosted.org/packages/a4/86/ff826211bc9e28d4c371668b30b4b2c38a09127e5e73017b1c0cd52f9dfa/fasttext-0.8.3.tar.gz (73kB)\n",
      "\u001b[K    100% |████████████████████████████████| 81kB 856kB/s ta 0:00:01\n",
      "\u001b[?25hRequirement already satisfied: numpy>=1 in /root/anaconda3/lib/python3.7/site-packages (from fasttext) (1.15.4)\n",
      "Requirement already satisfied: future in /root/anaconda3/lib/python3.7/site-packages (from fasttext) (0.17.1)\n",
      "Building wheels for collected packages: fasttext\n",
      "  Running setup.py bdist_wheel for fasttext ... \u001b[?25ldone\n",
      "\u001b[?25h  Stored in directory: /root/.cache/pip/wheels/73/8e/5d/ecb50b90adaab5868ae1d8df180f31e55e85c2f055aaf2fb35\n",
      "Successfully built fasttext\n",
      "Installing collected packages: fasttext\n",
      "Successfully installed fasttext-0.8.3\n"
     ]
    }
   ],
   "source": [
    "# Install fastText on system environment\n",
    "import sys\n",
    "!{sys.executable} -m pip install fasttext"
   ]
  }
 ],
 "metadata": {
  "kernelspec": {
   "display_name": "Python 3",
   "language": "python",
   "name": "python3"
  },
  "language_info": {
   "codemirror_mode": {
    "name": "ipython",
    "version": 3
   },
   "file_extension": ".py",
   "mimetype": "text/x-python",
   "name": "python",
   "nbconvert_exporter": "python",
   "pygments_lexer": "ipython3",
   "version": "3.7.1"
  }
 },
 "nbformat": 4,
 "nbformat_minor": 2
}
