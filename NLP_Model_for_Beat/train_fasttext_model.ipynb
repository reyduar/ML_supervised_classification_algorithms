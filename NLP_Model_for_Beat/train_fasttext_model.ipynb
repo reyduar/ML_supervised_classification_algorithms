{
 "cells": [
  {
   "cell_type": "code",
   "execution_count": 1,
   "metadata": {},
   "outputs": [],
   "source": [
    "# -*- coding: utf-8 -*-\n",
    "\"\"\"\n",
    "@author: ariel.duarte\n",
    "\n",
    "Creates a new file called reviews_model_ngrams.bin\n",
    "\"\"\"\n",
    "import fasttext\n",
    "\n",
    "# classifier = fasttext.supervised('fasttext_dataset_training.txt', 'reviews_model')\n",
    "\n",
    "classifier = fasttext.supervised('fasttext_dataset_training.txt', 'reviews_model_ngrams', word_ngrams=1)"
   ]
  },
  {
   "cell_type": "code",
   "execution_count": 2,
   "metadata": {},
   "outputs": [
    {
     "name": "stdout",
     "output_type": "stream",
     "text": [
      "P@1: 0.5859903381642512\n",
      "R@1: 0.5859903381642512\n",
      "Number of examples: 2070\n"
     ]
    }
   ],
   "source": [
    "result = classifier.test('fasttext_dataset_test.txt')\n",
    "print ('P@1:', result.precision)\n",
    "print ('R@1:', result.recall)\n",
    "print ('Number of examples:', result.nexamples)"
   ]
  }
 ],
 "metadata": {
  "kernelspec": {
   "display_name": "Python 3",
   "language": "python",
   "name": "python3"
  },
  "language_info": {
   "codemirror_mode": {
    "name": "ipython",
    "version": 3
   },
   "file_extension": ".py",
   "mimetype": "text/x-python",
   "name": "python",
   "nbconvert_exporter": "python",
   "pygments_lexer": "ipython3",
   "version": "3.7.1"
  }
 },
 "nbformat": 4,
 "nbformat_minor": 2
}
